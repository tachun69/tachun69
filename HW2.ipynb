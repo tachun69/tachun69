{
 "cells": [
  {
   "cell_type": "code",
   "execution_count": null,
   "id": "eb031d3d-cdd9-46b8-ab20-eab3f19a5c7c",
   "metadata": {},
   "outputs": [],
   "source": [
    "n = int(input(\"希望執行次數\"))\n",
    "\n",
    "for i in range (n):\n",
    "    \n",
    "    num = int(input(\"請輸入總共堂數:\")) \n",
    "    num2 = input(\"請輸入課程名稱:\")\n",
    "    num3 = input(\"請輸入姓名:\")\n",
    "    num4 = input(\"請輸入科系:\")\n",
    "    \n",
    "    num5= input(\"請輸入未來期望:\")\n",
    "    \n",
    "    \n",
    "    \n",
    "    print(\"總共有\",num,\"期\")\n",
    "    print (\"課程名稱:\", num2)\n",
    "    print(\"我的名字是:\",num3)\n",
    "    print(\"我的科系是:\",num4)\n",
    "    print(\"我希望未來可以變成:\",num5)\n",
    "    \n",
    "    \n"
   ]
  }
 ],
 "metadata": {
  "kernelspec": {
   "display_name": "Python 3 (ipykernel)",
   "language": "python",
   "name": "python3"
  },
  "language_info": {
   "codemirror_mode": {
    "name": "ipython",
    "version": 3
   },
   "file_extension": ".py",
   "mimetype": "text/x-python",
   "name": "python",
   "nbconvert_exporter": "python",
   "pygments_lexer": "ipython3",
   "version": "3.11.7"
  }
 },
 "nbformat": 4,
 "nbformat_minor": 5
}
