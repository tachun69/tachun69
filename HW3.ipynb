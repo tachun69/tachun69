{
 "cells": [
  {
   "cell_type": "code",
   "execution_count": null,
   "id": "eb031d3d-cdd9-46b8-ab20-eab3f19a5c7c",
   "metadata": {},
   "outputs": [],
   "source": [
    "\n",
    "    \n",
    "import random\n",
    "\n",
    "\n",
    "\n",
    "def guess_number_game():\n",
    "    number_to_guess = random.randint(0, 100)\n",
    "    print(\"猜數字遊戲開始！範圍在 0 到 100 之間。\")\n",
    "    a = 0 \n",
    "\n",
    "    while True:\n",
    "        a =a+1\n",
    "        try:\n",
    "            user_guess = int(input(\"請輸入你的猜測：\"))\n",
    "\n",
    "            if user_guess < 0 or user_guess > 100:\n",
    "                print(\"請輸入 0 到 100 之間的數字。\")\n",
    "                continue\n",
    "\n",
    "            if user_guess < number_to_guess:\n",
    "                print(\"太小了，再試一次！你猜了\",a,\"次\")\n",
    "            elif user_guess > number_to_guess:\n",
    "                print(\"太大了，再試一次！你猜了\",a,\"次\")\n",
    "            else:\n",
    "                print(\"恭喜你，猜對了！\")\n",
    "                break\n",
    "        except ValueError:\n",
    "            print(\"請輸入一個有效的數字。\")\n",
    "\n",
    "guess_number_game()\n",
    "    \n"
   ]
  }
 ],
 "metadata": {
  "kernelspec": {
   "display_name": "Python 3 (ipykernel)",
   "language": "python",
   "name": "python3"
  },
  "language_info": {
   "codemirror_mode": {
    "name": "ipython",
    "version": 3
   },
   "file_extension": ".py",
   "mimetype": "text/x-python",
   "name": "python",
   "nbconvert_exporter": "python",
   "pygments_lexer": "ipython3",
   "version": "3.11.7"
  }
 },
 "nbformat": 4,
 "nbformat_minor": 5
}
