{
 "cells": [
  {
   "cell_type": "code",
   "execution_count": null,
   "id": "a0a04fad-6b83-40b6-82dc-b389dbb81e0b",
   "metadata": {},
   "outputs": [],
   "source": [
    "\n",
    "import os \n",
    "ID ={}\n",
    "\n",
    "yourPath = input()\n",
    "\n",
    "allFileList = os.listdir(yourPath)\n",
    "\n",
    "for file in allFileList:\n",
    "    if os.path.isdir(os.path.join(yourPath,file)):\n",
    "        print(\"I am a directroy:\"+file)\n",
    "    elif os.path.isfile(os.path.join(yourPath,file)):\n",
    "        print(\"I am a File\"+file)\n",
    "        ID.append[file.index('_')+1:file.index('.')]\n",
    "print(ID)\n",
    "                     \n",
    "        "
   ]
  }
 ],
 "metadata": {
  "kernelspec": {
   "display_name": "Python 3 (ipykernel)",
   "language": "python",
   "name": "python3"
  },
  "language_info": {
   "codemirror_mode": {
    "name": "ipython",
    "version": 3
   },
   "file_extension": ".py",
   "mimetype": "text/x-python",
   "name": "python",
   "nbconvert_exporter": "python",
   "pygments_lexer": "ipython3",
   "version": "3.11.7"
  }
 },
 "nbformat": 4,
 "nbformat_minor": 5
}
