{
 "cells": [
  {
   "cell_type": "code",
   "execution_count": null,
   "id": "8da5c79e-7351-4ef0-a08f-de20e3d5429f",
   "metadata": {},
   "outputs": [],
   "source": [
    "def is_palindrome(s):\n",
    "    # 去除空白字符並轉換為小寫\n",
    "    s = s.replace(\" \", \"\").lower()\n",
    "    \n",
    "    # 反轉字符串\n",
    "    reversed_s = s[::-1]\n",
    "    \n",
    "    # 判斷是否為回文\n",
    "    return s == reversed_s\n",
    "\n",
    "# 測試\n",
    "input_str = input(\"請輸入一個字符串：\")\n",
    "if is_palindrome(input_str):\n",
    "    print(f\"是回文：{input_str}\")\n",
    "else:\n",
    "    print(f\"不是回文：{input_str}\")"
   ]
  }
 ],
 "metadata": {
  "kernelspec": {
   "display_name": "Python 3 (ipykernel)",
   "language": "python",
   "name": "python3"
  },
  "language_info": {
   "codemirror_mode": {
    "name": "ipython",
    "version": 3
   },
   "file_extension": ".py",
   "mimetype": "text/x-python",
   "name": "python",
   "nbconvert_exporter": "python",
   "pygments_lexer": "ipython3",
   "version": "3.11.7"
  }
 },
 "nbformat": 4,
 "nbformat_minor": 5
}
