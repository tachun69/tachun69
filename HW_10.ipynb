{
 "cells": [
  {
   "cell_type": "code",
   "execution_count": 6,
   "id": "0f2e4e75-4a1f-4267-a8fd-7750c0ea4ec1",
   "metadata": {},
   "outputs": [
    {
     "name": "stdout",
     "output_type": "stream",
     "text": [
      "廖冠霖 142\n",
      "王力中 124\n",
      "張平舜 108\n",
      "洪婷婷 128\n",
      "林士雨 86\n",
      "陳宗翰 28\n",
      "洪偉珊 134\n",
      "顏又芹 32\n",
      "王亦夏 55\n",
      "姚成華 77\n",
      "潘詠月 144\n",
      "倪浩迪 163\n",
      "郭心怡 109\n",
      "黃政聖 99\n",
      "顏曉雲 135\n",
      "彭曉雯 77\n",
      "葉健仁 117\n",
      "賴軒年 167\n",
      "韓致遠 52\n",
      "陳常芝 80\n",
      "黃佩樺 108\n",
      "林詩虹 178\n",
      "黃心卿 96\n",
      "郭奕全 101\n",
      "游子揚 127\n",
      "杜茜行 107\n",
      "李美一 64\n",
      "陳姿茜 77\n",
      "涂珮瑜 134\n",
      "夏明哲 111\n"
     ]
    }
   ],
   "source": [
    "# -*- coding: utf-8 -*-\n",
    "\"\"\"\n",
    "Created on Sun May 19 23:11:04 2024\n",
    "\n",
    "@author: User\n",
    "\"\"\"\n",
    "\n",
    "csv_path  = 'C:/Users/User/Desktop/Hw/english_list.csv'\n",
    "csv2_path = 'C:/Users/User/Desktop/Hw/math_list.csv'\n",
    "\n",
    "fil_E = open(csv_path, mode='r', encoding='utf-8') \n",
    "filename = 'example.txt'\n",
    "fil_M = open(csv2_path, mode='r', encoding='utf-8')\n",
    "\n",
    "lisE=[]\n",
    "lisM=[]\n",
    "name=[]\n",
    "\n",
    "for line in fil_E.readlines():\n",
    "    # print(line,end='')\n",
    "    line = line.strip().split(\",\")\n",
    "    name.append(line[0])\n",
    "    lisE.append(line[1])\n",
    "\n",
    "score =[]\n",
    "\n",
    "fout = open(\"Score.csv\",'w')\n",
    "\n",
    "for line in fil_M.readlines():\n",
    "    \n",
    "    line = line.strip().split(\",\")  \n",
    "    lisM.append(line[1])\n",
    "for i in range (1,len(lisE)):\n",
    "    score.append(int(lisE[i])+int(lisM[i]))\n",
    "    list1 = [name[i],str(score[i-1]),\"\\n\"]\n",
    "    print(name[i],str(score[i-1]))\n",
    "    line = ','.join(list1)\n",
    "    fout.write(line)\n",
    "    # print(i)\n",
    "fout.close()\n",
    "fil_E.close()\n",
    "fil_M.close()   "
   ]
  },
  {
   "cell_type": "code",
   "execution_count": null,
   "id": "cedfa39f-6c22-4271-8dc5-4a2f15175f32",
   "metadata": {},
   "outputs": [],
   "source": []
  },
  {
   "cell_type": "code",
   "execution_count": null,
   "id": "2e30b3d8-00ee-41cc-a2d8-c581d636f702",
   "metadata": {},
   "outputs": [],
   "source": []
  }
 ],
 "metadata": {
  "kernelspec": {
   "display_name": "Python 3 (ipykernel)",
   "language": "python",
   "name": "python3"
  },
  "language_info": {
   "codemirror_mode": {
    "name": "ipython",
    "version": 3
   },
   "file_extension": ".py",
   "mimetype": "text/x-python",
   "name": "python",
   "nbconvert_exporter": "python",
   "pygments_lexer": "ipython3",
   "version": "3.11.7"
  }
 },
 "nbformat": 4,
 "nbformat_minor": 5
}
