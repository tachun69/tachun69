{
 "cells": [
  {
   "cell_type": "code",
   "execution_count": null,
   "id": "abf40150-3dcd-4547-8610-a05d6f77d2b0",
   "metadata": {},
   "outputs": [],
   "source": [
    "m = {'柯南','灰原' ,'步美', '美環' ,'光彥'}\n",
    "\n",
    "e = {'柯南','灰原' ,'丸尾', '野口' ,'步美'}\n",
    "\n",
    "a = m.difference(e)\n",
    "b = e.difference(m)\n",
    "c = m.intersection(e)\n",
    "d = list(a)\n",
    "print (a)\n",
    "d.sort()\n",
    "print(d)\n",
    "print(type(a))\n",
    "print(e)\n",
    "\n",
    "\n",
    "print(b)\n",
    "\n",
    "print(c)"
   ]
  }
 ],
 "metadata": {
  "kernelspec": {
   "display_name": "Python 3 (ipykernel)",
   "language": "python",
   "name": "python3"
  },
  "language_info": {
   "codemirror_mode": {
    "name": "ipython",
    "version": 3
   },
   "file_extension": ".py",
   "mimetype": "text/x-python",
   "name": "python",
   "nbconvert_exporter": "python",
   "pygments_lexer": "ipython3",
   "version": "3.11.7"
  }
 },
 "nbformat": 4,
 "nbformat_minor": 5
}
