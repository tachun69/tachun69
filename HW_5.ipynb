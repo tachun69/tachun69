{
 "cells": [
  {
   "cell_type": "code",
   "execution_count": 4,
   "id": "52e2113d-197d-4376-b4e7-9edc6c7f2977",
   "metadata": {},
   "outputs": [
    {
     "name": "stdin",
     "output_type": "stream",
     "text": [
      "What is your email address?:  skidhfsoijf@zmail.com\n"
     ]
    },
    {
     "name": "stdout",
     "output_type": "stream",
     "text": [
      "Your username is 'skidhfsoijf' and your domain name is 'zmail.com'\n",
      "這是在zmail.com之下的自訂義地址\n"
     ]
    }
   ],
   "source": [
    "email = input(\"What is your email address?: \")\n",
    "\n",
    "user_n = email[0:email.index('@')]\n",
    "domain_n = email[email.index('@') + 1:]\n",
    "\n",
    "output = \"Your username is '{}' and your domain name is '{}'\".format(user_n, domain_n)\n",
    "print(output)\n",
    "\n",
    "domains = {'gmail.com': 'Google', 'yahoo.com.tw': 'Yahoo', 'ntu.edu.tw': '台大', 'hotmail.com': 'Hotmail'}\n",
    "\n",
    "if domain_n in domains:\n",
    "    output2 = \"這是註冊在{}之下的E-mail地址\".format(domains.get(domain_n, '自訂義域名'))\n",
    "else:\n",
    "    output2 = \"這是在{}之下的自訂義E-mail地址\".format(domain_n)\n",
    "\n",
    "print(output2)\n"
   ]
  },
  {
   "cell_type": "code",
   "execution_count": null,
   "id": "8224f9e1-6dee-4bcc-9f5c-49c8b4af9aed",
   "metadata": {},
   "outputs": [],
   "source": []
  }
 ],
 "metadata": {
  "kernelspec": {
   "display_name": "Python 3 (ipykernel)",
   "language": "python",
   "name": "python3"
  },
  "language_info": {
   "codemirror_mode": {
    "name": "ipython",
    "version": 3
   },
   "file_extension": ".py",
   "mimetype": "text/x-python",
   "name": "python",
   "nbconvert_exporter": "python",
   "pygments_lexer": "ipython3",
   "version": "3.11.7"
  }
 },
 "nbformat": 4,
 "nbformat_minor": 5
}
