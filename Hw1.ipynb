{
 "cells": [
  {
   "cell_type": "code",
   "execution_count": null,
   "id": "eb031d3d-cdd9-46b8-ab20-eab3f19a5c7c",
   "metadata": {},
   "outputs": [],
   "source": [
    "num = int(input())\n",
    "\n",
    "if num %2 !=0 and num>1 and num<1000: \n",
    "    print(\"你輸入的是奇數\")\n",
    "elif num>1 and num<1000:\n",
    "    print(\"你輸入的是偶數\")\n",
    "else:\n",
    "    print(\"範圍之外\")"
   ]
  }
 ],
 "metadata": {
  "kernelspec": {
   "display_name": "Python 3 (ipykernel)",
   "language": "python",
   "name": "python3"
  },
  "language_info": {
   "codemirror_mode": {
    "name": "ipython",
    "version": 3
   },
   "file_extension": ".py",
   "mimetype": "text/x-python",
   "name": "python",
   "nbconvert_exporter": "python",
   "pygments_lexer": "ipython3",
   "version": "3.11.7"
  }
 },
 "nbformat": 4,
 "nbformat_minor": 5
}
