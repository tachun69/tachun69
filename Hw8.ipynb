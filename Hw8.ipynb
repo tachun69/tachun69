{
 "cells": [
  {
   "cell_type": "code",
   "execution_count": null,
   "id": "45155922-a9ed-4823-b3ba-cc91b10458d6",
   "metadata": {},
   "outputs": [],
   "source": [
    "import os \n",
    "import shutil\n",
    "\n",
    "if not os.path.exists('files'):\n",
    "    os.mkdir('files')\n",
    "    shutil.rmtree(\"files\")\n",
    "os.mkdir('files')\n",
    "\n",
    "N = int(input(\"請輸入一個數字 N：\"))\n",
    "\n",
    "os.chdir('files')\n",
    "for i in range(1, N+1):\n",
    "    folder_name = f'f{i}'\n",
    "    os.mkdir(os.path.join('files', folder_name))\n",
    "print(f\"files 資料夾的內容：{os.listdir('files')}\")\n",
    "os.rename(os.path.join('files', 'f1'), os.path.join('files', 'folder1'))\n",
    "\n",
    "\n",
    "\n",
    "print(f\"重新命名後的 files 資料夾的內容：{os.listdir('files')}\")\n",
    "\n",
    "folder_path = os.path.join('files', 'folder1')\n",
    "os.rmdir(folder_path)\n",
    "\n",
    "os.chdir('../')\n",
    "shutil.rmtree('files')\n",
    "\n",
    "print(f\"移除 folder1 後的 files 資料夾的內容：{os.listdir('files')}\")"
   ]
  }
 ],
 "metadata": {
  "kernelspec": {
   "display_name": "Python 3 (ipykernel)",
   "language": "python",
   "name": "python3"
  },
  "language_info": {
   "codemirror_mode": {
    "name": "ipython",
    "version": 3
   },
   "file_extension": ".py",
   "mimetype": "text/x-python",
   "name": "python",
   "nbconvert_exporter": "python",
   "pygments_lexer": "ipython3",
   "version": "3.11.7"
  }
 },
 "nbformat": 4,
 "nbformat_minor": 5
}
